{
 "cells": [
  {
   "cell_type": "markdown",
   "id": "03136882-655a-4150-b61d-06b3dbe5933a",
   "metadata": {
    "tags": []
   },
   "source": [
    "# Group 7 Project Proposal\n",
    "#### Harsh A, Kyle M, Daniel L, Catarina A "
   ]
  },
  {
   "cell_type": "code",
   "execution_count": 18,
   "id": "585061a6-772b-4d49-b553-38f5b2beb3e8",
   "metadata": {
    "tags": []
   },
   "outputs": [],
   "source": [
    "library(tidyverse)\n",
    "library(repr)\n",
    "library(tidymodels)\n",
    "options(repr.matrix.max.rows = 6)"
   ]
  },
  {
   "cell_type": "code",
   "execution_count": 19,
   "id": "0fd08f66-746f-4196-b86a-31ec402ff106",
   "metadata": {
    "tags": []
   },
   "outputs": [
    {
     "name": "stderr",
     "output_type": "stream",
     "text": [
      "\u001b[1mRows: \u001b[22m\u001b[34m3276\u001b[39m \u001b[1mColumns: \u001b[22m\u001b[34m10\u001b[39m\n",
      "\u001b[36m──\u001b[39m \u001b[1mColumn specification\u001b[22m \u001b[36m────────────────────────────────────────────────────────\u001b[39m\n",
      "\u001b[1mDelimiter:\u001b[22m \",\"\n",
      "\u001b[32mdbl\u001b[39m (10): ph, Hardness, Solids, Chloramines, Sulfate, Conductivity, Organic_...\n",
      "\n",
      "\u001b[36mℹ\u001b[39m Use `spec()` to retrieve the full column specification for this data.\n",
      "\u001b[36mℹ\u001b[39m Specify the column types or set `show_col_types = FALSE` to quiet this message.\n"
     ]
    },
    {
     "data": {
      "text/html": [
       "<table class=\"dataframe\">\n",
       "<caption>A tibble: 3276 × 10</caption>\n",
       "<thead>\n",
       "\t<tr><th scope=col>ph</th><th scope=col>Hardness</th><th scope=col>Solids</th><th scope=col>Chloramines</th><th scope=col>Sulfate</th><th scope=col>Conductivity</th><th scope=col>Organic_carbon</th><th scope=col>Trihalomethanes</th><th scope=col>Turbidity</th><th scope=col>Potability</th></tr>\n",
       "\t<tr><th scope=col>&lt;dbl&gt;</th><th scope=col>&lt;dbl&gt;</th><th scope=col>&lt;dbl&gt;</th><th scope=col>&lt;dbl&gt;</th><th scope=col>&lt;dbl&gt;</th><th scope=col>&lt;dbl&gt;</th><th scope=col>&lt;dbl&gt;</th><th scope=col>&lt;dbl&gt;</th><th scope=col>&lt;dbl&gt;</th><th scope=col>&lt;fct&gt;</th></tr>\n",
       "</thead>\n",
       "<tbody>\n",
       "\t<tr><td>      NA</td><td>204.8905</td><td>20791.32</td><td>7.300212</td><td>368.5164</td><td>564.3087</td><td>10.37978</td><td>86.99097</td><td>2.963135</td><td>Undrinkable</td></tr>\n",
       "\t<tr><td>3.716080</td><td>129.4229</td><td>18630.06</td><td>6.635246</td><td>      NA</td><td>592.8854</td><td>15.18001</td><td>56.32908</td><td>4.500656</td><td>Undrinkable</td></tr>\n",
       "\t<tr><td>8.099124</td><td>224.2363</td><td>19909.54</td><td>9.275884</td><td>      NA</td><td>418.6062</td><td>16.86864</td><td>66.42009</td><td>3.055934</td><td>Undrinkable</td></tr>\n",
       "\t<tr><td>⋮</td><td>⋮</td><td>⋮</td><td>⋮</td><td>⋮</td><td>⋮</td><td>⋮</td><td>⋮</td><td>⋮</td><td>⋮</td></tr>\n",
       "\t<tr><td>9.419510</td><td>175.7626</td><td>33155.58</td><td>7.350233</td><td>NA</td><td>432.0448</td><td>11.03907</td><td>69.84540</td><td>3.298875</td><td>Drinkable</td></tr>\n",
       "\t<tr><td>5.126763</td><td>230.6038</td><td>11983.87</td><td>6.303357</td><td>NA</td><td>402.8831</td><td>11.16895</td><td>77.48821</td><td>4.708658</td><td>Drinkable</td></tr>\n",
       "\t<tr><td>7.874671</td><td>195.1023</td><td>17404.18</td><td>7.509306</td><td>NA</td><td>327.4598</td><td>16.14037</td><td>78.69845</td><td>2.309149</td><td>Drinkable</td></tr>\n",
       "</tbody>\n",
       "</table>\n"
      ],
      "text/latex": [
       "A tibble: 3276 × 10\n",
       "\\begin{tabular}{llllllllll}\n",
       " ph & Hardness & Solids & Chloramines & Sulfate & Conductivity & Organic\\_carbon & Trihalomethanes & Turbidity & Potability\\\\\n",
       " <dbl> & <dbl> & <dbl> & <dbl> & <dbl> & <dbl> & <dbl> & <dbl> & <dbl> & <fct>\\\\\n",
       "\\hline\n",
       "\t       NA & 204.8905 & 20791.32 & 7.300212 & 368.5164 & 564.3087 & 10.37978 & 86.99097 & 2.963135 & Undrinkable\\\\\n",
       "\t 3.716080 & 129.4229 & 18630.06 & 6.635246 &       NA & 592.8854 & 15.18001 & 56.32908 & 4.500656 & Undrinkable\\\\\n",
       "\t 8.099124 & 224.2363 & 19909.54 & 9.275884 &       NA & 418.6062 & 16.86864 & 66.42009 & 3.055934 & Undrinkable\\\\\n",
       "\t ⋮ & ⋮ & ⋮ & ⋮ & ⋮ & ⋮ & ⋮ & ⋮ & ⋮ & ⋮\\\\\n",
       "\t 9.419510 & 175.7626 & 33155.58 & 7.350233 & NA & 432.0448 & 11.03907 & 69.84540 & 3.298875 & Drinkable\\\\\n",
       "\t 5.126763 & 230.6038 & 11983.87 & 6.303357 & NA & 402.8831 & 11.16895 & 77.48821 & 4.708658 & Drinkable\\\\\n",
       "\t 7.874671 & 195.1023 & 17404.18 & 7.509306 & NA & 327.4598 & 16.14037 & 78.69845 & 2.309149 & Drinkable\\\\\n",
       "\\end{tabular}\n"
      ],
      "text/markdown": [
       "\n",
       "A tibble: 3276 × 10\n",
       "\n",
       "| ph &lt;dbl&gt; | Hardness &lt;dbl&gt; | Solids &lt;dbl&gt; | Chloramines &lt;dbl&gt; | Sulfate &lt;dbl&gt; | Conductivity &lt;dbl&gt; | Organic_carbon &lt;dbl&gt; | Trihalomethanes &lt;dbl&gt; | Turbidity &lt;dbl&gt; | Potability &lt;fct&gt; |\n",
       "|---|---|---|---|---|---|---|---|---|---|\n",
       "|       NA | 204.8905 | 20791.32 | 7.300212 | 368.5164 | 564.3087 | 10.37978 | 86.99097 | 2.963135 | Undrinkable |\n",
       "| 3.716080 | 129.4229 | 18630.06 | 6.635246 |       NA | 592.8854 | 15.18001 | 56.32908 | 4.500656 | Undrinkable |\n",
       "| 8.099124 | 224.2363 | 19909.54 | 9.275884 |       NA | 418.6062 | 16.86864 | 66.42009 | 3.055934 | Undrinkable |\n",
       "| ⋮ | ⋮ | ⋮ | ⋮ | ⋮ | ⋮ | ⋮ | ⋮ | ⋮ | ⋮ |\n",
       "| 9.419510 | 175.7626 | 33155.58 | 7.350233 | NA | 432.0448 | 11.03907 | 69.84540 | 3.298875 | Drinkable |\n",
       "| 5.126763 | 230.6038 | 11983.87 | 6.303357 | NA | 402.8831 | 11.16895 | 77.48821 | 4.708658 | Drinkable |\n",
       "| 7.874671 | 195.1023 | 17404.18 | 7.509306 | NA | 327.4598 | 16.14037 | 78.69845 | 2.309149 | Drinkable |\n",
       "\n"
      ],
      "text/plain": [
       "     ph       Hardness Solids   Chloramines Sulfate  Conductivity\n",
       "1          NA 204.8905 20791.32 7.300212    368.5164 564.3087    \n",
       "2    3.716080 129.4229 18630.06 6.635246          NA 592.8854    \n",
       "3    8.099124 224.2363 19909.54 9.275884          NA 418.6062    \n",
       "⋮    ⋮        ⋮        ⋮        ⋮           ⋮        ⋮           \n",
       "3274 9.419510 175.7626 33155.58 7.350233    NA       432.0448    \n",
       "3275 5.126763 230.6038 11983.87 6.303357    NA       402.8831    \n",
       "3276 7.874671 195.1023 17404.18 7.509306    NA       327.4598    \n",
       "     Organic_carbon Trihalomethanes Turbidity Potability \n",
       "1    10.37978       86.99097        2.963135  Undrinkable\n",
       "2    15.18001       56.32908        4.500656  Undrinkable\n",
       "3    16.86864       66.42009        3.055934  Undrinkable\n",
       "⋮    ⋮              ⋮               ⋮         ⋮          \n",
       "3274 11.03907       69.84540        3.298875  Drinkable  \n",
       "3275 11.16895       77.48821        4.708658  Drinkable  \n",
       "3276 16.14037       78.69845        2.309149  Drinkable  "
      ]
     },
     "metadata": {},
     "output_type": "display_data"
    }
   ],
   "source": [
    "water_data <- read_csv(\"data/water_potability.csv\") |>\n",
    "    mutate(Potability = as_factor(case_when(Potability == 1 ~ \"Drinkable\" , Potability == 0 ~ \"Undrinkable\")))\n",
    "water_data"
   ]
  },
  {
   "cell_type": "code",
   "execution_count": null,
   "id": "145d5d43-720d-4884-9808-14d87a91bcc8",
   "metadata": {},
   "outputs": [],
   "source": []
  }
 ],
 "metadata": {
  "kernelspec": {
   "display_name": "R",
   "language": "R",
   "name": "ir"
  },
  "language_info": {
   "codemirror_mode": "r",
   "file_extension": ".r",
   "mimetype": "text/x-r-source",
   "name": "R",
   "pygments_lexer": "r",
   "version": "4.2.2"
  }
 },
 "nbformat": 4,
 "nbformat_minor": 5
}
