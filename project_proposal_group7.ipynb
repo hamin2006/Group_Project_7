{
 "cells": [
  {
   "cell_type": "markdown",
   "id": "03136882-655a-4150-b61d-06b3dbe5933a",
   "metadata": {
    "tags": []
   },
   "source": [
    "# Group 7 Project Proposal\n",
    "#### Harsh A, Kyle M, Daniel L, Catarina A "
   ]
  },
  {
   "cell_type": "code",
   "execution_count": 10,
   "id": "585061a6-772b-4d49-b553-38f5b2beb3e8",
   "metadata": {
    "tags": []
   },
   "outputs": [
    {
     "name": "stderr",
     "output_type": "stream",
     "text": [
      "Updating HTML index of packages in '.Library'\n",
      "\n",
      "Making 'packages.html' ...\n",
      " done\n",
      "\n"
     ]
    }
   ],
   "source": [
    "library(tidyverse)\n",
    "library(repr)\n",
    "library(tidymodels)\n",
    "options(repr.matrix.max.rows = 6)\n",
    "install.packages(\"kknn\")"
   ]
  },
  {
   "cell_type": "code",
   "execution_count": 23,
   "id": "0fd08f66-746f-4196-b86a-31ec402ff106",
   "metadata": {
    "tags": []
   },
   "outputs": [
    {
     "name": "stderr",
     "output_type": "stream",
     "text": [
      "\u001b[1m\u001b[22mNew names:\n",
      "\u001b[36m•\u001b[39m `` -> `...1`\n",
      "\u001b[1mRows: \u001b[22m\u001b[34m300\u001b[39m \u001b[1mColumns: \u001b[22m\u001b[34m13\u001b[39m\n",
      "\u001b[36m──\u001b[39m \u001b[1mColumn specification\u001b[22m \u001b[36m────────────────────────────────────────────────────────\u001b[39m\n",
      "\u001b[1mDelimiter:\u001b[22m \",\"\n",
      "\u001b[32mdbl\u001b[39m (13): ...1, anaemia, creatinine_phosphokinase, diabetes, ejection_fracti...\n",
      "\n",
      "\u001b[36mℹ\u001b[39m Use `spec()` to retrieve the full column specification for this data.\n",
      "\u001b[36mℹ\u001b[39m Specify the column types or set `show_col_types = FALSE` to quiet this message.\n"
     ]
    },
    {
     "data": {
      "text/html": [
       "<table class=\"dataframe\">\n",
       "<caption>A tibble: 300 × 7</caption>\n",
       "<thead>\n",
       "\t<tr><th scope=col>age</th><th scope=col>creatinine_phosphokinase</th><th scope=col>ejection_fraction</th><th scope=col>platelets</th><th scope=col>serum_creatinine</th><th scope=col>serum_sodium</th><th scope=col>DEATH_EVENT</th></tr>\n",
       "\t<tr><th scope=col>&lt;dbl&gt;</th><th scope=col>&lt;dbl&gt;</th><th scope=col>&lt;dbl&gt;</th><th scope=col>&lt;dbl&gt;</th><th scope=col>&lt;dbl&gt;</th><th scope=col>&lt;dbl&gt;</th><th scope=col>&lt;fct&gt;</th></tr>\n",
       "</thead>\n",
       "<tbody>\n",
       "\t<tr><td>75</td><td> 582</td><td>20</td><td>265000</td><td>1.9</td><td>130</td><td>1</td></tr>\n",
       "\t<tr><td>55</td><td>7861</td><td>38</td><td>263358</td><td>1.1</td><td>136</td><td>1</td></tr>\n",
       "\t<tr><td>65</td><td> 146</td><td>20</td><td>162000</td><td>1.3</td><td>129</td><td>1</td></tr>\n",
       "\t<tr><td>⋮</td><td>⋮</td><td>⋮</td><td>⋮</td><td>⋮</td><td>⋮</td><td>⋮</td></tr>\n",
       "\t<tr><td>45</td><td>2413</td><td>38</td><td>140000</td><td>1.4</td><td>140</td><td>0 </td></tr>\n",
       "\t<tr><td>50</td><td> 196</td><td>45</td><td>395000</td><td>1.6</td><td>136</td><td>0 </td></tr>\n",
       "\t<tr><td>NA</td><td>  NA</td><td>NA</td><td>    NA</td><td> NA</td><td> NA</td><td>NA</td></tr>\n",
       "</tbody>\n",
       "</table>\n"
      ],
      "text/latex": [
       "A tibble: 300 × 7\n",
       "\\begin{tabular}{lllllll}\n",
       " age & creatinine\\_phosphokinase & ejection\\_fraction & platelets & serum\\_creatinine & serum\\_sodium & DEATH\\_EVENT\\\\\n",
       " <dbl> & <dbl> & <dbl> & <dbl> & <dbl> & <dbl> & <fct>\\\\\n",
       "\\hline\n",
       "\t 75 &  582 & 20 & 265000 & 1.9 & 130 & 1\\\\\n",
       "\t 55 & 7861 & 38 & 263358 & 1.1 & 136 & 1\\\\\n",
       "\t 65 &  146 & 20 & 162000 & 1.3 & 129 & 1\\\\\n",
       "\t ⋮ & ⋮ & ⋮ & ⋮ & ⋮ & ⋮ & ⋮\\\\\n",
       "\t 45 & 2413 & 38 & 140000 & 1.4 & 140 & 0 \\\\\n",
       "\t 50 &  196 & 45 & 395000 & 1.6 & 136 & 0 \\\\\n",
       "\t NA &   NA & NA &     NA &  NA &  NA & NA\\\\\n",
       "\\end{tabular}\n"
      ],
      "text/markdown": [
       "\n",
       "A tibble: 300 × 7\n",
       "\n",
       "| age &lt;dbl&gt; | creatinine_phosphokinase &lt;dbl&gt; | ejection_fraction &lt;dbl&gt; | platelets &lt;dbl&gt; | serum_creatinine &lt;dbl&gt; | serum_sodium &lt;dbl&gt; | DEATH_EVENT &lt;fct&gt; |\n",
       "|---|---|---|---|---|---|---|\n",
       "| 75 |  582 | 20 | 265000 | 1.9 | 130 | 1 |\n",
       "| 55 | 7861 | 38 | 263358 | 1.1 | 136 | 1 |\n",
       "| 65 |  146 | 20 | 162000 | 1.3 | 129 | 1 |\n",
       "| ⋮ | ⋮ | ⋮ | ⋮ | ⋮ | ⋮ | ⋮ |\n",
       "| 45 | 2413 | 38 | 140000 | 1.4 | 140 | 0  |\n",
       "| 50 |  196 | 45 | 395000 | 1.6 | 136 | 0  |\n",
       "| NA |   NA | NA |     NA |  NA |  NA | NA |\n",
       "\n"
      ],
      "text/plain": [
       "    age creatinine_phosphokinase ejection_fraction platelets serum_creatinine\n",
       "1   75   582                     20                265000    1.9             \n",
       "2   55  7861                     38                263358    1.1             \n",
       "3   65   146                     20                162000    1.3             \n",
       "⋮   ⋮   ⋮                        ⋮                 ⋮         ⋮               \n",
       "298 45  2413                     38                140000    1.4             \n",
       "299 50   196                     45                395000    1.6             \n",
       "300 NA    NA                     NA                    NA     NA             \n",
       "    serum_sodium DEATH_EVENT\n",
       "1   130          1          \n",
       "2   136          1          \n",
       "3   129          1          \n",
       "⋮   ⋮            ⋮          \n",
       "298 140          0          \n",
       "299 136          0          \n",
       "300  NA          NA         "
      ]
     },
     "metadata": {},
     "output_type": "display_data"
    },
    {
     "data": {
      "text/html": [
       "<table class=\"dataframe\">\n",
       "<caption>A tibble: 225 × 7</caption>\n",
       "<thead>\n",
       "\t<tr><th scope=col>age</th><th scope=col>creatinine_phosphokinase</th><th scope=col>ejection_fraction</th><th scope=col>platelets</th><th scope=col>serum_creatinine</th><th scope=col>serum_sodium</th><th scope=col>DEATH_EVENT</th></tr>\n",
       "\t<tr><th scope=col>&lt;dbl&gt;</th><th scope=col>&lt;dbl&gt;</th><th scope=col>&lt;dbl&gt;</th><th scope=col>&lt;dbl&gt;</th><th scope=col>&lt;dbl&gt;</th><th scope=col>&lt;dbl&gt;</th><th scope=col>&lt;fct&gt;</th></tr>\n",
       "</thead>\n",
       "<tbody>\n",
       "\t<tr><td>49</td><td>80</td><td>30</td><td>427000</td><td>1.0</td><td>138</td><td>0</td></tr>\n",
       "\t<tr><td>65</td><td>52</td><td>25</td><td>276000</td><td>1.3</td><td>137</td><td>0</td></tr>\n",
       "\t<tr><td>70</td><td>75</td><td>35</td><td>223000</td><td>2.7</td><td>138</td><td>0</td></tr>\n",
       "\t<tr><td>⋮</td><td>⋮</td><td>⋮</td><td>⋮</td><td>⋮</td><td>⋮</td><td>⋮</td></tr>\n",
       "\t<tr><td>60</td><td> 166</td><td>30</td><td> 62000</td><td>1.70</td><td>127</td><td>1</td></tr>\n",
       "\t<tr><td>65</td><td> 258</td><td>25</td><td>198000</td><td>1.40</td><td>129</td><td>1</td></tr>\n",
       "\t<tr><td>55</td><td>1199</td><td>20</td><td>263358</td><td>1.83</td><td>134</td><td>1</td></tr>\n",
       "</tbody>\n",
       "</table>\n"
      ],
      "text/latex": [
       "A tibble: 225 × 7\n",
       "\\begin{tabular}{lllllll}\n",
       " age & creatinine\\_phosphokinase & ejection\\_fraction & platelets & serum\\_creatinine & serum\\_sodium & DEATH\\_EVENT\\\\\n",
       " <dbl> & <dbl> & <dbl> & <dbl> & <dbl> & <dbl> & <fct>\\\\\n",
       "\\hline\n",
       "\t 49 & 80 & 30 & 427000 & 1.0 & 138 & 0\\\\\n",
       "\t 65 & 52 & 25 & 276000 & 1.3 & 137 & 0\\\\\n",
       "\t 70 & 75 & 35 & 223000 & 2.7 & 138 & 0\\\\\n",
       "\t ⋮ & ⋮ & ⋮ & ⋮ & ⋮ & ⋮ & ⋮\\\\\n",
       "\t 60 &  166 & 30 &  62000 & 1.70 & 127 & 1\\\\\n",
       "\t 65 &  258 & 25 & 198000 & 1.40 & 129 & 1\\\\\n",
       "\t 55 & 1199 & 20 & 263358 & 1.83 & 134 & 1\\\\\n",
       "\\end{tabular}\n"
      ],
      "text/markdown": [
       "\n",
       "A tibble: 225 × 7\n",
       "\n",
       "| age &lt;dbl&gt; | creatinine_phosphokinase &lt;dbl&gt; | ejection_fraction &lt;dbl&gt; | platelets &lt;dbl&gt; | serum_creatinine &lt;dbl&gt; | serum_sodium &lt;dbl&gt; | DEATH_EVENT &lt;fct&gt; |\n",
       "|---|---|---|---|---|---|---|\n",
       "| 49 | 80 | 30 | 427000 | 1.0 | 138 | 0 |\n",
       "| 65 | 52 | 25 | 276000 | 1.3 | 137 | 0 |\n",
       "| 70 | 75 | 35 | 223000 | 2.7 | 138 | 0 |\n",
       "| ⋮ | ⋮ | ⋮ | ⋮ | ⋮ | ⋮ | ⋮ |\n",
       "| 60 |  166 | 30 |  62000 | 1.70 | 127 | 1 |\n",
       "| 65 |  258 | 25 | 198000 | 1.40 | 129 | 1 |\n",
       "| 55 | 1199 | 20 | 263358 | 1.83 | 134 | 1 |\n",
       "\n"
      ],
      "text/plain": [
       "    age creatinine_phosphokinase ejection_fraction platelets serum_creatinine\n",
       "1   49  80                       30                427000    1.0             \n",
       "2   65  52                       25                276000    1.3             \n",
       "3   70  75                       35                223000    2.7             \n",
       "⋮   ⋮   ⋮                        ⋮                 ⋮         ⋮               \n",
       "223 60   166                     30                 62000    1.70            \n",
       "224 65   258                     25                198000    1.40            \n",
       "225 55  1199                     20                263358    1.83            \n",
       "    serum_sodium DEATH_EVENT\n",
       "1   138          0          \n",
       "2   137          0          \n",
       "3   138          0          \n",
       "⋮   ⋮            ⋮          \n",
       "223 127          1          \n",
       "224 129          1          \n",
       "225 134          1          "
      ]
     },
     "metadata": {},
     "output_type": "display_data"
    },
    {
     "data": {
      "text/html": [
       "<table class=\"dataframe\">\n",
       "<caption>A tibble: 2 × 2</caption>\n",
       "<thead>\n",
       "\t<tr><th scope=col>DEATH_EVENT</th><th scope=col>count</th></tr>\n",
       "\t<tr><th scope=col>&lt;fct&gt;</th><th scope=col>&lt;int&gt;</th></tr>\n",
       "</thead>\n",
       "<tbody>\n",
       "\t<tr><td>0</td><td>153</td></tr>\n",
       "\t<tr><td>1</td><td> 72</td></tr>\n",
       "</tbody>\n",
       "</table>\n"
      ],
      "text/latex": [
       "A tibble: 2 × 2\n",
       "\\begin{tabular}{ll}\n",
       " DEATH\\_EVENT & count\\\\\n",
       " <fct> & <int>\\\\\n",
       "\\hline\n",
       "\t 0 & 153\\\\\n",
       "\t 1 &  72\\\\\n",
       "\\end{tabular}\n"
      ],
      "text/markdown": [
       "\n",
       "A tibble: 2 × 2\n",
       "\n",
       "| DEATH_EVENT &lt;fct&gt; | count &lt;int&gt; |\n",
       "|---|---|\n",
       "| 0 | 153 |\n",
       "| 1 |  72 |\n",
       "\n"
      ],
      "text/plain": [
       "  DEATH_EVENT count\n",
       "1 0           153  \n",
       "2 1            72  "
      ]
     },
     "metadata": {},
     "output_type": "display_data"
    }
   ],
   "source": [
    "set.seed(1)\n",
    "water_data <- read_csv(\"data/heart_failure.csv\") |>\n",
    "    mutate(DEATH_EVENT = as_factor(DEATH_EVENT)) |>\n",
    "    select(...1, creatinine_phosphokinase, ejection_fraction, platelets, serum_creatinine, serum_sodium, DEATH_EVENT)\n",
    "water_data <- water_data |> rename_at('...1', ~'age')\n",
    "water_data\n",
    "\n",
    "water_split <- initial_split(water_data, prop = 0.75, strata = DEATH_EVENT)\n",
    "\n",
    "water_training <- training(water_split)\n",
    "water_testing <- testing(water_split)\n",
    "\n",
    "\n",
    "water_training\n",
    "\n",
    "water_training |>\n",
    "    group_by(DEATH_EVENT) |>\n",
    "    summarize(count = n()) |>\n",
    "    head()"
   ]
  },
  {
   "cell_type": "code",
   "execution_count": 25,
   "id": "145d5d43-720d-4884-9808-14d87a91bcc8",
   "metadata": {
    "tags": []
   },
   "outputs": [
    {
     "data": {
      "text/html": [
       "<table class=\"dataframe\">\n",
       "<caption>A tibble: 10 × 7</caption>\n",
       "<thead>\n",
       "\t<tr><th scope=col>neighbors</th><th scope=col>.metric</th><th scope=col>.estimator</th><th scope=col>mean</th><th scope=col>n</th><th scope=col>std_err</th><th scope=col>.config</th></tr>\n",
       "\t<tr><th scope=col>&lt;dbl&gt;</th><th scope=col>&lt;chr&gt;</th><th scope=col>&lt;chr&gt;</th><th scope=col>&lt;dbl&gt;</th><th scope=col>&lt;int&gt;</th><th scope=col>&lt;dbl&gt;</th><th scope=col>&lt;chr&gt;</th></tr>\n",
       "</thead>\n",
       "<tbody>\n",
       "\t<tr><td> 9</td><td>accuracy</td><td>binary</td><td>0.7239438</td><td>5</td><td>0.02181999</td><td>Preprocessor1_Model09</td></tr>\n",
       "\t<tr><td>10</td><td>accuracy</td><td>binary</td><td>0.7239438</td><td>5</td><td>0.02181999</td><td>Preprocessor1_Model10</td></tr>\n",
       "\t<tr><td> 7</td><td>accuracy</td><td>binary</td><td>0.7111946</td><td>5</td><td>0.01768300</td><td>Preprocessor1_Model07</td></tr>\n",
       "\t<tr><td>⋮</td><td>⋮</td><td>⋮</td><td>⋮</td><td>⋮</td><td>⋮</td><td>⋮</td></tr>\n",
       "\t<tr><td>4</td><td>accuracy</td><td>binary</td><td>0.6707861</td><td>5</td><td>0.01873213</td><td>Preprocessor1_Model04</td></tr>\n",
       "\t<tr><td>1</td><td>accuracy</td><td>binary</td><td>0.6042819</td><td>5</td><td>0.02196592</td><td>Preprocessor1_Model01</td></tr>\n",
       "\t<tr><td>2</td><td>accuracy</td><td>binary</td><td>0.6042819</td><td>5</td><td>0.02196592</td><td>Preprocessor1_Model02</td></tr>\n",
       "</tbody>\n",
       "</table>\n"
      ],
      "text/latex": [
       "A tibble: 10 × 7\n",
       "\\begin{tabular}{lllllll}\n",
       " neighbors & .metric & .estimator & mean & n & std\\_err & .config\\\\\n",
       " <dbl> & <chr> & <chr> & <dbl> & <int> & <dbl> & <chr>\\\\\n",
       "\\hline\n",
       "\t  9 & accuracy & binary & 0.7239438 & 5 & 0.02181999 & Preprocessor1\\_Model09\\\\\n",
       "\t 10 & accuracy & binary & 0.7239438 & 5 & 0.02181999 & Preprocessor1\\_Model10\\\\\n",
       "\t  7 & accuracy & binary & 0.7111946 & 5 & 0.01768300 & Preprocessor1\\_Model07\\\\\n",
       "\t ⋮ & ⋮ & ⋮ & ⋮ & ⋮ & ⋮ & ⋮\\\\\n",
       "\t 4 & accuracy & binary & 0.6707861 & 5 & 0.01873213 & Preprocessor1\\_Model04\\\\\n",
       "\t 1 & accuracy & binary & 0.6042819 & 5 & 0.02196592 & Preprocessor1\\_Model01\\\\\n",
       "\t 2 & accuracy & binary & 0.6042819 & 5 & 0.02196592 & Preprocessor1\\_Model02\\\\\n",
       "\\end{tabular}\n"
      ],
      "text/markdown": [
       "\n",
       "A tibble: 10 × 7\n",
       "\n",
       "| neighbors &lt;dbl&gt; | .metric &lt;chr&gt; | .estimator &lt;chr&gt; | mean &lt;dbl&gt; | n &lt;int&gt; | std_err &lt;dbl&gt; | .config &lt;chr&gt; |\n",
       "|---|---|---|---|---|---|---|\n",
       "|  9 | accuracy | binary | 0.7239438 | 5 | 0.02181999 | Preprocessor1_Model09 |\n",
       "| 10 | accuracy | binary | 0.7239438 | 5 | 0.02181999 | Preprocessor1_Model10 |\n",
       "|  7 | accuracy | binary | 0.7111946 | 5 | 0.01768300 | Preprocessor1_Model07 |\n",
       "| ⋮ | ⋮ | ⋮ | ⋮ | ⋮ | ⋮ | ⋮ |\n",
       "| 4 | accuracy | binary | 0.6707861 | 5 | 0.01873213 | Preprocessor1_Model04 |\n",
       "| 1 | accuracy | binary | 0.6042819 | 5 | 0.02196592 | Preprocessor1_Model01 |\n",
       "| 2 | accuracy | binary | 0.6042819 | 5 | 0.02196592 | Preprocessor1_Model02 |\n",
       "\n"
      ],
      "text/plain": [
       "   neighbors .metric  .estimator mean      n std_err    .config              \n",
       "1   9        accuracy binary     0.7239438 5 0.02181999 Preprocessor1_Model09\n",
       "2  10        accuracy binary     0.7239438 5 0.02181999 Preprocessor1_Model10\n",
       "3   7        accuracy binary     0.7111946 5 0.01768300 Preprocessor1_Model07\n",
       "⋮  ⋮         ⋮        ⋮          ⋮         ⋮ ⋮          ⋮                    \n",
       "8  4         accuracy binary     0.6707861 5 0.01873213 Preprocessor1_Model04\n",
       "9  1         accuracy binary     0.6042819 5 0.02196592 Preprocessor1_Model01\n",
       "10 2         accuracy binary     0.6042819 5 0.02196592 Preprocessor1_Model02"
      ]
     },
     "metadata": {},
     "output_type": "display_data"
    }
   ],
   "source": [
    "options(repr.plot.height = 10, repr.plot.width = 10)\n",
    "\n",
    "spec <- nearest_neighbor(weight_func = \"rectangular\", neighbors = tune()) |>\n",
    "set_engine(\"kknn\")|>\n",
    "set_mode(\"classification\")\n",
    "\n",
    "rec <- recipe(DEATH_EVENT~.,data = water_training) |>\n",
    "    step_scale(all_predictors()) |>\n",
    "    step_center(all_predictors())\n",
    "\n",
    "fold <- vfold_cv(water_training, v = 5, strata = DEATH_EVENT)\n",
    "\n",
    "resample_fit <- workflow() |>\n",
    "       add_recipe(rec) |>\n",
    "       add_model(spec) |>\n",
    "       tune_grid(resamples = fold, grid = tibble(neighbors = seq(1,10,by=1))) |>\n",
    "        collect_metrics() |>\n",
    "        filter(.metric==\"accuracy\") |>\n",
    "        arrange(desc(mean))\n",
    "resample_fit"
   ]
  },
  {
   "cell_type": "code",
   "execution_count": null,
   "id": "6f47ac5e-ec39-4bc4-8fc6-ad1dc447eba9",
   "metadata": {},
   "outputs": [],
   "source": []
  },
  {
   "cell_type": "code",
   "execution_count": null,
   "id": "19d41084-24f9-4801-9ed1-b7541afc6b21",
   "metadata": {},
   "outputs": [],
   "source": []
  }
 ],
 "metadata": {
  "kernelspec": {
   "display_name": "R",
   "language": "R",
   "name": "ir"
  },
  "language_info": {
   "codemirror_mode": "r",
   "file_extension": ".r",
   "mimetype": "text/x-r-source",
   "name": "R",
   "pygments_lexer": "r",
   "version": "4.2.2"
  }
 },
 "nbformat": 4,
 "nbformat_minor": 5
}
