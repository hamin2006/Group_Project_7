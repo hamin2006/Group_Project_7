{
 "cells": [
  {
   "cell_type": "markdown",
   "id": "03136882-655a-4150-b61d-06b3dbe5933a",
   "metadata": {
    "tags": []
   },
   "source": [
    "# Group 7 Project Proposal\n",
    "#### Harsh A, Kyle M, Daniel L, Catarina A "
   ]
  },
  {
   "cell_type": "code",
   "execution_count": null,
   "id": "585061a6-772b-4d49-b553-38f5b2beb3e8",
   "metadata": {},
   "outputs": [],
   "source": [
    "library(tidyverse)\n",
    "library(repr)\n",
    "library(tidymodels)\n",
    "options(repr.matrix.max.rows = 6)"
   ]
  }
 ],
 "metadata": {
  "kernelspec": {
   "display_name": "R",
   "language": "R",
   "name": "ir"
  },
  "language_info": {
   "codemirror_mode": "r",
   "file_extension": ".r",
   "mimetype": "text/x-r-source",
   "name": "R",
   "pygments_lexer": "r",
   "version": "4.2.2"
  }
 },
 "nbformat": 4,
 "nbformat_minor": 5
}
